{
 "cells": [
  {
   "cell_type": "markdown",
   "id": "fc3024e2",
   "metadata": {},
   "source": [
    "## Reflection \n",
    "using autogen agent reflection technique to ask questions about CA insurance law."
   ]
  },
  {
   "cell_type": "markdown",
   "id": "3b0cc42f",
   "metadata": {},
   "source": [
    "## Setup"
   ]
  },
  {
   "cell_type": "code",
   "execution_count": 5,
   "id": "96d39be0-eaf3-456d-8613-ba21099ed36b",
   "metadata": {
    "height": 31
   },
   "outputs": [],
   "source": [
    "llm_config = {\"model\": \"gpt-3.5-turbo\"}"
   ]
  },
  {
   "cell_type": "markdown",
   "id": "0969e6bb",
   "metadata": {},
   "source": [
    "## The task!"
   ]
  },
  {
   "cell_type": "code",
   "execution_count": 5,
   "id": "e8074032-3690-4de9-ad08-ea8323cb441b",
   "metadata": {
    "height": 146
   },
   "outputs": [],
   "source": [
    "task = '''\n",
    "        How much time does an insurance company have to\n",
    "        accept or deny an insurance claim in California? and what about extentions\n",
    "\n",
    "        Make sure the response takes into account any recent\n",
    "        changes to the law and is accurate.\n",
    "\n",
    "        Also state the date of your last update.\n",
    "       '''\n"
   ]
  },
  {
   "cell_type": "markdown",
   "id": "1987f023",
   "metadata": {},
   "source": [
    "## Create a writer agent"
   ]
  },
  {
   "cell_type": "code",
   "execution_count": 5,
   "id": "fe0f0a47-a9fe-43a0-b7b1-79922e4c4ac8",
   "metadata": {
    "height": 179
   },
   "outputs": [
    {
     "name": "stderr",
     "output_type": "stream",
     "text": [
      "/Users/ajay/Library/Python/3.9/lib/python/site-packages/tqdm/auto.py:21: TqdmWarning: IProgress not found. Please update jupyter and ipywidgets. See https://ipywidgets.readthedocs.io/en/stable/user_install.html\n",
      "  from .autonotebook import tqdm as notebook_tqdm\n"
     ]
    }
   ],
   "source": [
    "import autogen\n",
    "\n",
    "writer = autogen.AssistantAgent(\n",
    "    name=\"Writer\",\n",
    "    system_message=\"You are a legal writer. You write accurate and concise \"\n",
    "        \"responses on given topics for lawyers. You must polish your \"\n",
    "        \"writing based on the feedback you receive and give a refined \"\n",
    "        \"version. Only return your final work without additional comments.\",\n",
    "    llm_config=llm_config,\n",
    ")"
   ]
  },
  {
   "cell_type": "code",
   "execution_count": 5,
   "id": "7c7b4d8d-40f7-4a05-8958-25d20054de3a",
   "metadata": {
    "height": 31
   },
   "outputs": [],
   "source": [
    "reply = writer.generate_reply(messages=[{\"content\": task, \"role\": \"user\"}])"
   ]
  },
  {
   "cell_type": "code",
   "execution_count": 5,
   "id": "c501c97d-e338-4f36-a384-6ec45983cf77",
   "metadata": {
    "height": 31
   },
   "outputs": [
    {
     "name": "stdout",
     "output_type": "stream",
     "text": [
      "In California, an insurance company generally has 40 days to accept or deny an insurance claim after receiving proof of the claim. This period can be extended by the insurance company for up to 30 days if certain conditions apply. These conditions include the need for more time to investigate the claim or if they are waiting for additional information from the policyholder.\n",
      "\n",
      "Last updated: September 2021.\n"
     ]
    }
   ],
   "source": [
    "print(reply)"
   ]
  },
  {
   "cell_type": "markdown",
   "id": "49658114",
   "metadata": {},
   "source": [
    "## Adding reflection \n",
    "\n",
    "Create a critic agent to reflect on the work of the writer agent."
   ]
  },
  {
   "cell_type": "code",
   "execution_count": 5,
   "id": "c7fcd1c7-51ec-4915-8e97-bac03565c4c7",
   "metadata": {
    "height": 146
   },
   "outputs": [],
   "source": [
    "critic = autogen.AssistantAgent(\n",
    "    name=\"Critic\",\n",
    "    is_termination_msg=lambda x: x.get(\"content\", \"\").find(\"TERMINATE\") >= 0,\n",
    "    llm_config=llm_config,\n",
    "    system_message=\"You are a legal critic. You review the work of \"\n",
    "                \"the writer and provide constructive \"\n",
    "                \"feedback to help improve the quality of the content.\",\n",
    ")"
   ]
  },
  {
   "cell_type": "code",
   "execution_count": 5,
   "id": "899d5fdb-6081-470b-b287-8cf8b8142d0d",
   "metadata": {
    "height": 113
   },
   "outputs": [
    {
     "name": "stdout",
     "output_type": "stream",
     "text": [
      "\u001b[33mCritic\u001b[0m (to Writer):\n",
      "\n",
      "\n",
      "        How much time does an insurance company have to\n",
      "        accept or deny an insurance claim in California? and what about extentions\n",
      "\n",
      "        Make sure the response takes into account any recent\n",
      "        changes to the law and is accurate.\n",
      "\n",
      "        Also state the date of your last update.\n",
      "       \n",
      "\n",
      "--------------------------------------------------------------------------------\n",
      "\u001b[33mWriter\u001b[0m (to Critic):\n",
      "\n",
      "In California, an insurance company generally has 40 days to accept or deny an insurance claim after receiving proof of the claim. This period can be extended by the insurance company for up to 30 days if certain conditions apply. These conditions include the need for more time to investigate the claim or if they are waiting for additional information from the policyholder.\n",
      "\n",
      "Last updated: September 2021.\n",
      "\n",
      "--------------------------------------------------------------------------------\n",
      "\u001b[33mCritic\u001b[0m (to Writer):\n",
      "\n",
      "Your response provides a clear and concise answer to the question regarding the time frame for insurance companies to accept or deny claims in California. It is helpful that you also mentioned the possibility of extending the decision period in certain circumstances.\n",
      "\n",
      "To enhance the quality of the information provided, you may want to consider adding more specifics about the conditions under which the insurance company can extend the deadline, as well as any relevant case law or regulations supporting this extension process. Additionally, it would be valuable to include information on any recent changes in California insurance law that may impact the timeline for claim processing to ensure the response remains up-to-date and comprehensive.\n",
      "\n",
      "Overall, the response is informative and addresses the question effectively. By including more detailed information and incorporating recent legal developments, you can further enrich the content and improve the accuracy and relevance of the response.\n",
      "\n",
      "Keep up the good work in providing valuable insights into insurance claim processing timelines.\n",
      "\n",
      "--------------------------------------------------------------------------------\n",
      "\u001b[33mWriter\u001b[0m (to Critic):\n",
      "\n",
      "In California, an insurance company typically has 40 days to accept or deny an insurance claim upon receiving proof of the claim. The insurer may extend this deadline by up to 30 days under specific circumstances, such as the need for further investigation or awaiting additional information from the policyholder. Recent changes to California insurance law have not altered this timeline as of September 2021.\n",
      "\n",
      "Last updated: September 2021.\n",
      "\n",
      "--------------------------------------------------------------------------------\n"
     ]
    }
   ],
   "source": [
    "res = critic.initiate_chat(\n",
    "    recipient=writer,\n",
    "    message=task,\n",
    "    max_turns=2,\n",
    "    summary_method=\"last_msg\"\n",
    ")"
   ]
  },
  {
   "cell_type": "markdown",
   "id": "e7b76449",
   "metadata": {},
   "source": [
    "## Nested chat"
   ]
  },
  {
   "cell_type": "code",
   "execution_count": 5,
   "id": "401ecf92-63e9-40ff-aeed-1c404352e4ab",
   "metadata": {
    "height": 212
   },
   "outputs": [],
   "source": [
    "legal_update_reviewer = autogen.AssistantAgent(\n",
    "    name=\"Legal update Reviewer\",\n",
    "    llm_config=llm_config,\n",
    "    system_message=\"You are an Insurance law update reviewer \"\n",
    "         \", tasked with tracking changes in insurance law.\"\n",
    "         \"You alert the team to any updates that might affect \"\n",
    "         \"the organization and provide summaries of these changes \"\n",
    "         \"and their potential impacts.\"\n",
    "         \"You stay informed about the latest developments in insurance law. \"\n",
    "         \"Begin the review by stating your role.\",\n",
    ")\n"
   ]
  },
  {
   "cell_type": "code",
   "execution_count": 5,
   "id": "f85acb81-7ab9-4c84-b8bb-6fbae3dce848",
   "metadata": {
    "height": 179
   },
   "outputs": [],
   "source": [
    "legal_reviewer = autogen.AssistantAgent(\n",
    "    name=\"Legal Reviewer\",\n",
    "    llm_config=llm_config,\n",
    "    system_message=\"You are a legal reviewer, known for \"\n",
    "        \"your ability to ensure that content is legally compliant \"\n",
    "        \"and free from any potential legal issues. \"\n",
    "        \"Make sure your suggestion is concise (within 3 bullet points), \"\n",
    "        \"concrete and to the point. \"\n",
    "        \"Begin the review by stating your role.\",\n",
    ")"
   ]
  },
  {
   "cell_type": "code",
   "execution_count": 5,
   "id": "d46a177a-8088-4956-8d2b-3e916b8ca5e9",
   "metadata": {
    "height": 179
   },
   "outputs": [],
   "source": [
    "ethics_reviewer = autogen.AssistantAgent(\n",
    "    name=\"Ethics Reviewer\",\n",
    "    llm_config=llm_config,\n",
    "    system_message=\"You are an ethics reviewer, known for \"\n",
    "        \"your ability to ensure that content is ethically sound \"\n",
    "        \"and free from any potential ethical issues. \"\n",
    "        \"Make sure your suggestion is concise (within 3 bullet points), \"\n",
    "        \"concrete and to the point. \"\n",
    "        \"Begin the review by stating your role. \",\n",
    ")"
   ]
  },
  {
   "cell_type": "code",
   "execution_count": 5,
   "id": "a7b2ad6f-8ba6-436a-9459-14ffbe8a32d3",
   "metadata": {
    "height": 113
   },
   "outputs": [],
   "source": [
    "meta_reviewer = autogen.AssistantAgent(\n",
    "    name=\"Meta Reviewer\",\n",
    "    llm_config=llm_config,\n",
    "    system_message=\"You are a meta reviewer, you aggragate and review \"\n",
    "    \"the work of other reviewers and give a final suggestion on the content.\",\n",
    ")"
   ]
  },
  {
   "cell_type": "markdown",
   "id": "913beca1",
   "metadata": {},
   "source": [
    "## Orchestrate the nested chats to solve the task"
   ]
  },
  {
   "cell_type": "code",
   "execution_count": 5,
   "id": "a11a70c7-19ca-4e5a-ad3d-f2b481fb5915",
   "metadata": {
    "height": 525
   },
   "outputs": [],
   "source": [
    "def reflection_message(recipient, messages, sender, config):\n",
    "    return f'''Review the following content.\n",
    "            \\n\\n {recipient.chat_messages_for_summary(sender)[-1]['content']}'''\n",
    "\n",
    "review_chats = [\n",
    "    {\n",
    "     \"recipient\": legal_update_reviewer,\n",
    "     \"message\": reflection_message,\n",
    "     \"summary_method\": \"reflection_with_llm\",\n",
    "     \"summary_args\": {\"summary_prompt\" :\n",
    "        \"Return review into as JSON object only:\"\n",
    "        \"{'Reviewer': '', 'Review': ''}. Here Reviewer should be your role\",},\n",
    "     \"max_turns\": 1},\n",
    "    {\n",
    "    \"recipient\": legal_reviewer, \"message\": reflection_message,\n",
    "     \"summary_method\": \"reflection_with_llm\",\n",
    "     \"summary_args\": {\"summary_prompt\" :\n",
    "        \"Return review into as JSON object only:\"\n",
    "        \"{'Reviewer': '', 'Review': ''}.\",},\n",
    "     \"max_turns\": 1},\n",
    "    {\"recipient\": ethics_reviewer, \"message\": reflection_message,\n",
    "     \"summary_method\": \"reflection_with_llm\",\n",
    "     \"summary_args\": {\"summary_prompt\" :\n",
    "        \"Return review into as JSON object only:\"\n",
    "        \"{'reviewer': '', 'review': ''}\",},\n",
    "     \"max_turns\": 1},\n",
    "     {\"recipient\": meta_reviewer,\n",
    "      \"message\": \"Aggregrate feedback from all reviewers and give final suggestions on the writing.\",\n",
    "     \"max_turns\": 1},\n",
    "]\n"
   ]
  },
  {
   "cell_type": "code",
   "execution_count": 5,
   "id": "b3a40b66-5061-460d-ad9d-c0dbcfbba2e9",
   "metadata": {
    "height": 80
   },
   "outputs": [],
   "source": [
    "critic.register_nested_chats(\n",
    "    review_chats,\n",
    "    trigger=writer,\n",
    ")"
   ]
  },
  {
   "cell_type": "code",
   "execution_count": 5,
   "id": "3b8dcac3-1e72-43b7-9d5a-1be740f6efd5",
   "metadata": {
    "height": 113
   },
   "outputs": [
    {
     "name": "stdout",
     "output_type": "stream",
     "text": [
      "\u001b[33mCritic\u001b[0m (to Writer):\n",
      "\n",
      "\n",
      "        How much time does an insurance company have to\n",
      "        accept or deny an insurance claim in California? and what about extentions\n",
      "\n",
      "        Make sure the response takes into account any recent\n",
      "        changes to the law and is accurate.\n",
      "\n",
      "        Also state the date of your last update.\n",
      "       \n",
      "\n",
      "--------------------------------------------------------------------------------\n",
      "\u001b[33mWriter\u001b[0m (to Critic):\n",
      "\n",
      "In California, an insurance company generally has 40 days to accept or deny an insurance claim after receiving proof of the claim. This period can be extended by the insurance company for up to 30 days if certain conditions apply. These conditions include the need for more time to investigate the claim or if they are waiting for additional information from the policyholder.\n",
      "\n",
      "Last updated: September 2021.\n",
      "\n",
      "--------------------------------------------------------------------------------\n",
      "\u001b[34m\n",
      "********************************************************************************\u001b[0m\n",
      "\u001b[34mStarting a new chat....\u001b[0m\n",
      "\u001b[34m\n",
      "********************************************************************************\u001b[0m\n",
      "\u001b[33mCritic\u001b[0m (to Legal update Reviewer):\n",
      "\n",
      "Review the following content.\n",
      "            \n",
      "\n",
      " In California, an insurance company generally has 40 days to accept or deny an insurance claim after receiving proof of the claim. This period can be extended by the insurance company for up to 30 days if certain conditions apply. These conditions include the need for more time to investigate the claim or if they are waiting for additional information from the policyholder.\n",
      "\n",
      "Last updated: September 2021.\n",
      "\n",
      "--------------------------------------------------------------------------------\n",
      "\u001b[33mLegal update Reviewer\u001b[0m (to Critic):\n",
      "\n",
      "As an Insurance law update reviewer, I would like to point out that the information provided in the content is accurate regarding the time frame for an insurance company to accept or deny a claim in California as of September 2021. It is important for insurance companies operating in California to adhere to these statutory timelines to ensure compliance with state regulations.\n",
      "\n",
      "However, it is essential to stay informed about any potential changes or updates in insurance laws in California that may affect these timelines or any other requirements for processing insurance claims. It is recommended to regularly monitor any legislative or regulatory developments in California to ensure ongoing compliance and efficient claims handling processes.\n",
      "\n",
      "--------------------------------------------------------------------------------\n",
      "\u001b[34m\n",
      "********************************************************************************\u001b[0m\n",
      "\u001b[34mStarting a new chat....\u001b[0m\n",
      "\u001b[34m\n",
      "********************************************************************************\u001b[0m\n",
      "\u001b[33mCritic\u001b[0m (to Legal Reviewer):\n",
      "\n",
      "Review the following content.\n",
      "            \n",
      "\n",
      " In California, an insurance company generally has 40 days to accept or deny an insurance claim after receiving proof of the claim. This period can be extended by the insurance company for up to 30 days if certain conditions apply. These conditions include the need for more time to investigate the claim or if they are waiting for additional information from the policyholder.\n",
      "\n",
      "Last updated: September 2021.\n",
      "Context: \n",
      "{'Reviewer': 'Insurance Law Update Reviewer', 'Review': 'The information provided in the content is accurate regarding the time frame for an insurance company to accept or deny a claim in California as of September 2021. It is important for insurance companies operating in California to adhere to these statutory timelines to ensure compliance with state regulations. However, it is essential to stay informed about any potential changes or updates in insurance laws in California that may affect these timelines or any other requirements for processing insurance claims. It is recommended to regularly monitor any legislative or regulatory developments in California to ensure ongoing compliance and efficient claims handling processes.'}\n",
      "\n",
      "--------------------------------------------------------------------------------\n",
      "\u001b[33mLegal Reviewer\u001b[0m (to Critic):\n",
      "\n",
      "As the Insurance Law Update Reviewer:\n",
      "- Ensure that the content accurately reflects the current California insurance laws regarding claim acceptance or denial timelines as of September 2021.\n",
      "- Recommend regular monitoring of legislative and regulatory developments in California to stay informed about any potential changes that may impact insurance claim processing timelines.\n",
      "- Emphasize the importance of adhering to statutory timelines for insurance claims to maintain compliance with state regulations.\n",
      "\n",
      "--------------------------------------------------------------------------------\n",
      "\u001b[34m\n",
      "********************************************************************************\u001b[0m\n",
      "\u001b[34mStarting a new chat....\u001b[0m\n",
      "\u001b[34m\n",
      "********************************************************************************\u001b[0m\n",
      "\u001b[33mCritic\u001b[0m (to Ethics Reviewer):\n",
      "\n",
      "Review the following content.\n",
      "            \n",
      "\n",
      " In California, an insurance company generally has 40 days to accept or deny an insurance claim after receiving proof of the claim. This period can be extended by the insurance company for up to 30 days if certain conditions apply. These conditions include the need for more time to investigate the claim or if they are waiting for additional information from the policyholder.\n",
      "\n",
      "Last updated: September 2021.\n",
      "Context: \n",
      "{'Reviewer': 'Insurance Law Update Reviewer', 'Review': 'The information provided in the content is accurate regarding the time frame for an insurance company to accept or deny a claim in California as of September 2021. It is important for insurance companies operating in California to adhere to these statutory timelines to ensure compliance with state regulations. However, it is essential to stay informed about any potential changes or updates in insurance laws in California that may affect these timelines or any other requirements for processing insurance claims. It is recommended to regularly monitor any legislative or regulatory developments in California to ensure ongoing compliance and efficient claims handling processes.'}\n",
      "{'Reviewer': 'Insurance Law Update Reviewer', 'Review': 'The information provided in the content is accurate regarding the time frame for an insurance company to accept or deny a claim in California as of September 2021. It is important for insurance companies operating in California to adhere to these statutory timelines to ensure compliance with state regulations. However, it is essential to stay informed about any potential changes or updates in insurance laws in California that may affect these timelines or any other requirements for processing insurance claims. It is recommended to regularly monitor any legislative or regulatory developments in California to ensure ongoing compliance and efficient claims handling processes.'}\n",
      "\n",
      "--------------------------------------------------------------------------------\n",
      "\u001b[33mEthics Reviewer\u001b[0m (to Critic):\n",
      "\n",
      "As an Ethics Reviewer:\n",
      "\n",
      "- Ensure that the information provided is up to date and accurate by verifying if there have been any changes to the insurance claim process timeline in California since September 2021.\n",
      "- Consider including a disclaimer advising readers to consult with legal professionals or relevant authorities for the most current information and guidance on insurance claim procedures in California.\n",
      "- Emphasize the importance of maintaining compliance with state regulations and staying informed about any legislative or regulatory developments that may impact insurance claims handling processes in California.\n",
      "\n",
      "--------------------------------------------------------------------------------\n",
      "\u001b[34m\n",
      "********************************************************************************\u001b[0m\n",
      "\u001b[34mStarting a new chat....\u001b[0m\n",
      "\u001b[34m\n",
      "********************************************************************************\u001b[0m\n",
      "\u001b[33mCritic\u001b[0m (to Meta Reviewer):\n",
      "\n",
      "Aggregrate feedback from all reviewers and give final suggestions on the writing.\n",
      "Context: \n",
      "{'Reviewer': 'Insurance Law Update Reviewer', 'Review': 'The information provided in the content is accurate regarding the time frame for an insurance company to accept or deny a claim in California as of September 2021. It is important for insurance companies operating in California to adhere to these statutory timelines to ensure compliance with state regulations. However, it is essential to stay informed about any potential changes or updates in insurance laws in California that may affect these timelines or any other requirements for processing insurance claims. It is recommended to regularly monitor any legislative or regulatory developments in California to ensure ongoing compliance and efficient claims handling processes.'}\n",
      "{'Reviewer': 'Insurance Law Update Reviewer', 'Review': 'The information provided in the content is accurate regarding the time frame for an insurance company to accept or deny a claim in California as of September 2021. It is important for insurance companies operating in California to adhere to these statutory timelines to ensure compliance with state regulations. However, it is essential to stay informed about any potential changes or updates in insurance laws in California that may affect these timelines or any other requirements for processing insurance claims. It is recommended to regularly monitor any legislative or regulatory developments in California to ensure ongoing compliance and efficient claims handling processes.'}\n",
      "{'reviewer': 'Insurance Law Update Reviewer', 'review': 'The information provided in the content is accurate regarding the time frame for an insurance company to accept or deny a claim in California as of September 2021. It is important for insurance companies operating in California to adhere to these statutory timelines to ensure compliance with state regulations. However, it is essential to stay informed about any potential changes or updates in insurance laws in California that may affect these timelines or any other requirements for processing insurance claims. It is recommended to regularly monitor any legislative or regulatory developments in California to ensure ongoing compliance and efficient claims handling processes.'}\n",
      "\n",
      "--------------------------------------------------------------------------------\n",
      "\u001b[33mMeta Reviewer\u001b[0m (to Critic):\n",
      "\n",
      "Feedback aggregation:\n",
      "- All reviewers agree that the information provided in the content is accurate regarding the time frame for an insurance company to accept or deny a claim in California as of September 2021.\n",
      "- They emphasize the importance for insurance companies operating in California to adhere to these statutory timelines for compliance with state regulations.\n",
      "- It is highlighted that staying informed about potential changes or updates in insurance laws in California is essential to ensure adherence to timelines and other requirements for processing insurance claims.\n",
      "- Regular monitoring of legislative or regulatory developments in California is recommended for ongoing compliance and efficient claims handling processes.\n",
      "\n",
      "Final suggestion:\n",
      "Based on the aggregated feedback, it is clear that the content provides accurate and essential information for insurance companies operating in California. To enhance the usefulness of the content, it could be beneficial to include resources or tools for monitoring legislative or regulatory developments in California related to insurance laws. Additionally, providing examples or case studies related to compliance issues could further illustrate the importance of adhering to statutory timelines. Overall, the content is informative, but incorporating these suggestions could make it even more valuable for readers in the insurance industry.\n",
      "\n",
      "--------------------------------------------------------------------------------\n",
      "\u001b[33mCritic\u001b[0m (to Writer):\n",
      "\n",
      "Feedback aggregation:\n",
      "- All reviewers agree that the information provided in the content is accurate regarding the time frame for an insurance company to accept or deny a claim in California as of September 2021.\n",
      "- They emphasize the importance for insurance companies operating in California to adhere to these statutory timelines for compliance with state regulations.\n",
      "- It is highlighted that staying informed about potential changes or updates in insurance laws in California is essential to ensure adherence to timelines and other requirements for processing insurance claims.\n",
      "- Regular monitoring of legislative or regulatory developments in California is recommended for ongoing compliance and efficient claims handling processes.\n",
      "\n",
      "Final suggestion:\n",
      "Based on the aggregated feedback, it is clear that the content provides accurate and essential information for insurance companies operating in California. To enhance the usefulness of the content, it could be beneficial to include resources or tools for monitoring legislative or regulatory developments in California related to insurance laws. Additionally, providing examples or case studies related to compliance issues could further illustrate the importance of adhering to statutory timelines. Overall, the content is informative, but incorporating these suggestions could make it even more valuable for readers in the insurance industry.\n",
      "\n",
      "--------------------------------------------------------------------------------\n",
      "\u001b[33mWriter\u001b[0m (to Critic):\n",
      "\n",
      "In California, an insurance company typically has 40 days to accept or deny an insurance claim after receiving proof of the claim. This timeline may be extended by up to 30 days under certain circumstances, such as the need for further investigation or awaiting additional information from the policyholder.\n",
      "\n",
      "It is crucial for insurance companies in California to adhere to these statutory timelines to comply with state regulations effectively. Staying informed about any changes or updates in insurance laws in California is essential for ensuring compliance with timelines and other claim processing requirements.\n",
      "\n",
      "Regular monitoring of legislative and regulatory developments in California is recommended to maintain compliance and streamline claims handling processes.\n",
      "\n",
      "Last updated: September 2021.\n",
      "\n",
      "--------------------------------------------------------------------------------\n"
     ]
    }
   ],
   "source": [
    "res = critic.initiate_chat(\n",
    "    recipient=writer,\n",
    "    message=task,\n",
    "    max_turns=2,\n",
    "    summary_method=\"last_msg\"\n",
    ")"
   ]
  },
  {
   "cell_type": "markdown",
   "id": "c5c833b0",
   "metadata": {},
   "source": [
    "## Get the summary"
   ]
  },
  {
   "cell_type": "code",
   "execution_count": 5,
   "id": "68ef82ed-f102-4964-b7be-60e2f258a39b",
   "metadata": {
    "height": 31
   },
   "outputs": [
    {
     "name": "stdout",
     "output_type": "stream",
     "text": [
      "In California, an insurance company typically has 40 days to accept or deny an insurance claim after receiving proof of the claim. This timeline may be extended by up to 30 days under certain circumstances, such as the need for further investigation or awaiting additional information from the policyholder.\n",
      "\n",
      "It is crucial for insurance companies in California to adhere to these statutory timelines to comply with state regulations effectively. Staying informed about any changes or updates in insurance laws in California is essential for ensuring compliance with timelines and other claim processing requirements.\n",
      "\n",
      "Regular monitoring of legislative and regulatory developments in California is recommended to maintain compliance and streamline claims handling processes.\n",
      "\n",
      "Last updated: September 2021.\n"
     ]
    }
   ],
   "source": [
    "print(res.summary)"
   ]
  },
  {
   "cell_type": "code",
   "execution_count": null,
   "id": "a7217df5",
   "metadata": {
    "height": 31
   },
   "outputs": [],
   "source": []
  }
 ],
 "metadata": {
  "kernelspec": {
   "display_name": "Python 3 (ipykernel)",
   "language": "python",
   "name": "python3"
  },
  "language_info": {
   "codemirror_mode": {
    "name": "ipython",
    "version": 3
   },
   "file_extension": ".py",
   "mimetype": "text/x-python",
   "name": "python",
   "nbconvert_exporter": "python",
   "pygments_lexer": "ipython3",
   "version": "3.9.6"
  }
 },
 "nbformat": 4,
 "nbformat_minor": 5
}
